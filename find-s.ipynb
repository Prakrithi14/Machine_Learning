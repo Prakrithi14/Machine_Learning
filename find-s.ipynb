{
 "cells": [
  {
   "cell_type": "code",
   "execution_count": 1,
   "id": "fea5819e-6ef4-4e03-99af-6fc41d163065",
   "metadata": {},
   "outputs": [
    {
     "name": "stdout",
     "output_type": "stream",
     "text": [
      "     sky AirTemp Humidity    Wind Water Forecast Enjoysport\n",
      "0  Sunny    Warm   Normal  Strong  Warm     same        Yes\n",
      "1  Sunny    Warm     HIgh  Strong  Warm     same        Yes\n",
      "2  Rainy    Cold     High  Strong  Warm   change         No\n",
      "3  Sunny    Warm     High  Strong  Cool   change        Yes\n",
      "Most Specific Hypothesis: ['Sunny' 'Warm' '?' 'Strong' '?' '?']\n"
     ]
    }
   ],
   "source": [
    "import pandas as pd\n",
    "data=pd.read_csv('C:/Users/Prakrithi/Downloads/EnjoySport - Sheet1.csv')\n",
    "print(data)\n",
    "def find_s_algorithm(data):\n",
    "    attributes=data.iloc[:,:-1].values\n",
    "    target=data.iloc[:,-1].values\n",
    "    for i in range(len(target)):\n",
    "        if target[i]==\"Yes\":\n",
    "            hypothesis=attributes[i].copy()\n",
    "            break\n",
    "    for i in range(len(target)):\n",
    "        if target[i]==\"Yes\":\n",
    "            for j in range(len(hypothesis)):\n",
    "                if hypothesis[j]!=attributes[i][j]:\n",
    "                    hypothesis[j]='?'\n",
    "    return hypothesis\n",
    "final_hypothesis=find_s_algorithm(data)\n",
    "print(\"Most Specific Hypothesis:\",final_hypothesis)\n",
    "    "
   ]
  },
  {
   "cell_type": "code",
   "execution_count": 2,
   "id": "bab39a2c-c070-4ed2-94c0-6fea1f01e4de",
   "metadata": {},
   "outputs": [
    {
     "name": "stdout",
     "output_type": "stream",
     "text": [
      "Most Specific Hypothesis: ['?' 'Sunny' 'Warm' '?' 'Strong' '?' '?']\n"
     ]
    }
   ],
   "source": []
  },
  {
   "cell_type": "code",
   "execution_count": null,
   "id": "2256527d-ae82-435c-9b5c-532a260f0d13",
   "metadata": {},
   "outputs": [],
   "source": []
  }
 ],
 "metadata": {
  "kernelspec": {
   "display_name": "Python 3 (ipykernel)",
   "language": "python",
   "name": "python3"
  },
  "language_info": {
   "codemirror_mode": {
    "name": "ipython",
    "version": 3
   },
   "file_extension": ".py",
   "mimetype": "text/x-python",
   "name": "python",
   "nbconvert_exporter": "python",
   "pygments_lexer": "ipython3",
   "version": "3.13.2"
  }
 },
 "nbformat": 4,
 "nbformat_minor": 5
}
